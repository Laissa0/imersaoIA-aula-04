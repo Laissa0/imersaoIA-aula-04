{
  "nbformat": 4,
  "nbformat_minor": 0,
  "metadata": {
    "colab": {
      "provenance": [],
      "authorship_tag": "ABX9TyM49Px/+EvX53y9suR8Lq/H",
      "include_colab_link": true
    },
    "kernelspec": {
      "name": "python3",
      "display_name": "Python 3"
    },
    "language_info": {
      "name": "python"
    }
  },
  "cells": [
    {
      "cell_type": "markdown",
      "metadata": {
        "id": "view-in-github",
        "colab_type": "text"
      },
      "source": [
        "<a href=\"https://colab.research.google.com/github/Laissa0/imersaoIA-aula-04/blob/main/aula_04.ipynb\" target=\"_parent\"><img src=\"https://colab.research.google.com/assets/colab-badge.svg\" alt=\"Open In Colab\"/></a>"
      ]
    },
    {
      "cell_type": "markdown",
      "source": [
        "Instalação do SDK do Google"
      ],
      "metadata": {
        "id": "fzpPtH7MXQlF"
      }
    },
    {
      "cell_type": "code",
      "execution_count": null,
      "metadata": {
        "id": "l3dTjpi_SREM"
      },
      "outputs": [],
      "source": [
        "!pip install -q -U google-generativeai"
      ]
    },
    {
      "cell_type": "markdown",
      "source": [
        "Configurando o SDK do Google"
      ],
      "metadata": {
        "id": "IKlIkrIVXw5m"
      }
    },
    {
      "cell_type": "code",
      "source": [
        "import google.generativeai as genai\n",
        "from google.colab import userdata\n",
        "api_key = userdata.get('SECRET_KEY')\n",
        "genai.configure(api_key=api_key)\n",
        "\n",
        "genai.configure(api_key=GOOGLE_API_KEY)"
      ],
      "metadata": {
        "id": "3sXLBjYuXr_m"
      },
      "execution_count": 2,
      "outputs": []
    },
    {
      "cell_type": "markdown",
      "source": [
        "Listar os modelos disponiveis"
      ],
      "metadata": {
        "id": "YE5CCM4jX4Pt"
      }
    },
    {
      "cell_type": "code",
      "source": [
        "for m in genai.list_models():\n",
        "  if 'generateContent' in m.supported_generation_methods:\n",
        "    print(m.name)"
      ],
      "metadata": {
        "colab": {
          "base_uri": "https://localhost:8080/",
          "height": 139
        },
        "id": "EnnO325NX9AZ",
        "outputId": "4c3bcf4c-b61d-4663-e30b-06f95c94d9bb"
      },
      "execution_count": 3,
      "outputs": [
        {
          "output_type": "stream",
          "name": "stdout",
          "text": [
            "models/gemini-1.0-pro\n",
            "models/gemini-1.0-pro-001\n",
            "models/gemini-1.0-pro-latest\n",
            "models/gemini-1.0-pro-vision-latest\n",
            "models/gemini-1.5-pro-latest\n",
            "models/gemini-pro\n",
            "models/gemini-pro-vision\n"
          ]
        }
      ]
    },
    {
      "cell_type": "code",
      "source": [
        "generation_config = {\n",
        "    \"candidate_count\": 1,\n",
        "    \"temperature\": 0.5,\n",
        "}"
      ],
      "metadata": {
        "id": "qQLPLgYGeheN"
      },
      "execution_count": 9,
      "outputs": []
    },
    {
      "cell_type": "code",
      "source": [
        "safety_settings = {\n",
        "    \"HARASSMENT\": \"BLOCK_NONE\",\n",
        "    \"HATE\": \"BLOCK_NONE\",\n",
        "    \"SEXUAL\": \"BLOCK_NONE\",\n",
        "    \"DANGEROUS\": \"BLOCK_NONE\",\n",
        "}"
      ],
      "metadata": {
        "id": "Q-zzEaSyfHV7"
      },
      "execution_count": 10,
      "outputs": []
    },
    {
      "cell_type": "markdown",
      "source": [
        "Inicializando o modelo\n"
      ],
      "metadata": {
        "id": "69Nds27mhmrL"
      }
    },
    {
      "cell_type": "code",
      "source": [
        "model = genai.GenerativeModel(model_name=\"gemini-1.0-pro\",\n",
        "                              generation_config=generation_config,\n",
        "                              safety_settings=safety_settings\n",
        "                              )"
      ],
      "metadata": {
        "id": "Mm90qZ3shpIi"
      },
      "execution_count": 11,
      "outputs": []
    },
    {
      "cell_type": "code",
      "source": [
        "response = model.generate_content(\"Quero criar um projeto de tecnologia focado em mulheres, Me dê sugestões\")\n",
        "print(response.text)"
      ],
      "metadata": {
        "colab": {
          "base_uri": "https://localhost:8080/",
          "height": 540
        },
        "id": "DOhmlsGUil64",
        "outputId": "9c32cf4a-1061-48fd-ffac-dc331709143c"
      },
      "execution_count": 12,
      "outputs": [
        {
          "output_type": "stream",
          "name": "stdout",
          "text": [
            "**Plataformas de Mentoria e Rede**\n",
            "\n",
            "* **Comunidade de Mentoria para Mulheres em Tecnologia:** Conecte mulheres em tecnologia com mentoras experientes para orientação e apoio.\n",
            "* **Rede de Mulheres em STEM:** Estabeleça uma plataforma para conectar mulheres em campos de Ciência, Tecnologia, Engenharia e Matemática (STEM).\n",
            "\n",
            "**Programas de Treinamento e Desenvolvimento**\n",
            "\n",
            "* **Academia de Código para Mulheres:** Ofereça programas de treinamento em codificação e desenvolvimento de software voltados para mulheres.\n",
            "* **Programa de Liderança para Mulheres em Tecnologia:** Desenvolva as habilidades de liderança e gestão de mulheres em cargos técnicos.\n",
            "\n",
            "**Iniciativas de Diversidade e Inclusão**\n",
            "\n",
            "* **Grupo de Recursos de Funcionários (ERG) para Mulheres:** Crie um espaço seguro para mulheres na indústria de tecnologia para se conectarem, compartilharem experiências e promoverem a inclusão.\n",
            "* **Programa de Estágios para Mulheres:** Ofereça estágios em empresas de tecnologia para mulheres sub-representadas.\n",
            "\n",
            "**Recursos de Apoio**\n",
            "\n",
            "* **Linha Direta de Suporte para Mulheres em Tecnologia:** Forneça uma linha direta confidencial para mulheres enfrentarem desafios ou discriminação na indústria de tecnologia.\n",
            "* **Programa de Bolsas de Estudo para Mulheres em STEM:** Conceda bolsas de estudo para mulheres que buscam carreiras em campos STEM.\n",
            "\n",
            "**Soluções Tecnológicas Inovadoras**\n",
            "\n",
            "* **Aplicativo de Segurança para Mulheres:** Desenvolva um aplicativo móvel que forneça recursos de segurança para mulheres, como rastreamento de localização e botões de pânico.\n",
            "* **Plataforma de Saúde Feminina:** Crie uma plataforma que forneça acesso a informações e recursos relacionados à saúde feminina, incluindo telemedicina e suporte de pares.\n",
            "\n",
            "**Advocacia e Sensibilização**\n",
            "\n",
            "* **Campanha de Sensibilização sobre Diversidade e Inclusão:** Lance uma campanha para aumentar a conscientização sobre a importância da diversidade e inclusão na indústria de tecnologia.\n",
            "* **Pesquisa sobre Mulheres em Tecnologia:** Conduza pesquisas para entender as barreiras enfrentadas pelas mulheres na indústria de tecnologia e desenvolver soluções.\n"
          ]
        }
      ]
    },
    {
      "cell_type": "code",
      "source": [
        "chat = model.start_chat(history=[])"
      ],
      "metadata": {
        "id": "gTcv2DG6jbi-"
      },
      "execution_count": 13,
      "outputs": []
    },
    {
      "cell_type": "code",
      "source": [
        "prompt = input(\"Esperando prompt: \")\n",
        "\n",
        "while prompt != \"fim\":\n",
        "  response = chat.send_message(prompt)\n",
        "  print(\"Resposta: \", response.text, \"\\n\")\n",
        "  prompt = input(\"Esperando prompt: \")\n"
      ],
      "metadata": {
        "id": "dw4LxN-Sj6gS"
      },
      "execution_count": null,
      "outputs": []
    },
    {
      "cell_type": "code",
      "source": [
        "#Melhorando a visualização\n",
        "#Código disponível em https://ai.google.dev/tutorials/python_quickstart#import_packages\n",
        "import textwrap\n",
        "from IPython.display import display\n",
        "from IPython.display import Markdown\n",
        "\n",
        "def to_markdown(text):\n",
        "  text = text.replace('•', '  *')\n",
        "  return Markdown(textwrap.indent(text, '> ', predicate=lambda _: True))\n",
        "\n",
        "#Imprimindo o histórico\n",
        "for message in chat.history:\n",
        "  display(to_markdown(f'**{message.role}**: {message.parts[0].text}'))\n",
        "  print('-------------------------------------------')"
      ],
      "metadata": {
        "colab": {
          "base_uri": "https://localhost:8080/",
          "height": 393
        },
        "id": "caGUrTM5mU9W",
        "outputId": "373cd7fb-ef1e-4690-a38f-7f39aef3bfbd"
      },
      "execution_count": 16,
      "outputs": [
        {
          "output_type": "display_data",
          "data": {
            "text/plain": [
              "<IPython.core.display.Markdown object>"
            ],
            "text/markdown": "> **user**: qual a capital do japao?"
          },
          "metadata": {}
        },
        {
          "output_type": "stream",
          "name": "stdout",
          "text": [
            "-------------------------------------------\n"
          ]
        },
        {
          "output_type": "display_data",
          "data": {
            "text/plain": [
              "<IPython.core.display.Markdown object>"
            ],
            "text/markdown": "> **model**: Tóquio"
          },
          "metadata": {}
        },
        {
          "output_type": "stream",
          "name": "stdout",
          "text": [
            "-------------------------------------------\n"
          ]
        },
        {
          "output_type": "display_data",
          "data": {
            "text/plain": [
              "<IPython.core.display.Markdown object>"
            ],
            "text/markdown": "> **user**: qual a comida tipica desse país ?"
          },
          "metadata": {}
        },
        {
          "output_type": "stream",
          "name": "stdout",
          "text": [
            "-------------------------------------------\n"
          ]
        },
        {
          "output_type": "display_data",
          "data": {
            "text/plain": [
              "<IPython.core.display.Markdown object>"
            ],
            "text/markdown": "> **model**: Sushi"
          },
          "metadata": {}
        },
        {
          "output_type": "stream",
          "name": "stdout",
          "text": [
            "-------------------------------------------\n"
          ]
        },
        {
          "output_type": "display_data",
          "data": {
            "text/plain": [
              "<IPython.core.display.Markdown object>"
            ],
            "text/markdown": "> **user**: fim "
          },
          "metadata": {}
        },
        {
          "output_type": "stream",
          "name": "stdout",
          "text": [
            "-------------------------------------------\n"
          ]
        },
        {
          "output_type": "display_data",
          "data": {
            "text/plain": [
              "<IPython.core.display.Markdown object>"
            ],
            "text/markdown": "> **model**: Obrigado por jogar!"
          },
          "metadata": {}
        },
        {
          "output_type": "stream",
          "name": "stdout",
          "text": [
            "-------------------------------------------\n"
          ]
        }
      ]
    }
  ]
}